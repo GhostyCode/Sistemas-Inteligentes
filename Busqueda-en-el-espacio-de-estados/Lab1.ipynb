{
 "cells": [
  {
   "cell_type": "markdown",
   "metadata": {},
   "source": [
    "<br><br><br>\n",
    "<h1><font color=\"#B30033\" size=5>Intelligent Systems - Course 2023-2024</font></h1>\n",
    "\n",
    "\n",
    "\n",
    "<h1><font color=\"#B30033\" size=5>Lab 1: State Space Search</font></h1>\n",
    "\n",
    "\n",
    "<br>\n",
    "<div style=\"text-align: left\">\n",
    "<font color=\"#4E70BE\" size=3>Lecturers:</font><br>\n",
    "<ul>\n",
    "  <li><font color=\"#4E70BE\" size=3>Juan Carlos Alfaro Jiménez (JuanCarlos.Alfaro@uclm.es)</font><br></li>\n",
    "  <li><font color=\"#4E70BE\" size=3>Guillermo Tomás Fernández Martín (Guillermo.Fernandez@uclm.es)</font><br></li>\n",
    "  <li><font color=\"#4E70BE\" size=3>Mª Julia Flores Gallego (Julia.Flores@uclm.es)</font><br></li>\n",
    "  <li><font color=\"#4E70BE\" size=3> Luna Jimenéz Fernández (Luna.Jimenez@uclm.es)</font><br></li>\n",
    "  <li><font color=\"#4E70BE\" size=3> Ismael García Varea (Ismael.Garcia@uclm.es)</font><br></li>\n",
    "  <li><font color=\"#4E70BE\" size=3> Luis González Naharro (Luis.GNaharro@uclm.es)</font>  <li><font color=\"#4E70BE\" size=3> Marina Sokolova (Marina.Sokolova@uclm.es)</font>\n",
    "<br></li>\n",
    "</ul>\n",
    "</div>"
   ]
  },
  {
   "cell_type": "markdown",
   "metadata": {
    "datalore": {
     "hide_input_from_viewers": false,
     "hide_output_from_viewers": false,
     "node_id": "BJiz7lonyeROocVlcYrKWu",
     "type": "MD"
    }
   },
   "source": [
    "# Urban Rescue!\n",
    "\n",
    "\n",
    "\n",
    "\n",
    "## 1. Introduction\n",
    "\n",
    "\n",
    "In this assignment, a simulated urban rescue situation is presented where students must develop an artificial intelligence system to assist a rescue team in finding the quickest and safest route to rescue people trapped in various locations of a city after a natural disaster. The city is represented by a grid where each cell can have different states: blocked, free, with trapped people, or with dangers. The rescue teams must consider both speed and safety during the search.\n",
    "\n",
    "### Objectives:\n",
    "\n",
    "- Apply uninformed search algorithms (breadth-first and depth-first search) to find a path from the starting point to a rescue location.\n",
    "- Implement informed search strategies (A* and greedy search) using appropriate heuristics to optimize the rescue route considering time and safety.\n",
    "\n",
    "\n",
    "In this assignment, we will put into practice the techniques for searching the state of spaces. To do that, some of the algorithms seen in units/lessons two and three will be implemented and used to solve a classical problem: searching paths in a grid.\n",
    "\n",
    "We will also analyze and compare the performance of the algorithms by running them over different instances of the problem, and providing distinct initial and goal states.\n",
    "\n",
    "We hope that this practice helps you deepen your understanding of search strategies in artificial intelligence and encourages you to think about how these techniques can be applied in real-world situations to assist in rescue operations and other critical tasks. Good luck!\n"
   ]
  },
  {
   "cell_type": "markdown",
   "metadata": {
    "datalore": {
     "hide_input_from_viewers": false,
     "hide_output_from_viewers": false,
     "node_id": "kf129lUYKXkYfl7kIPcDlq",
     "type": "MD"
    }
   },
   "source": [
    "## 2. Problem Description\n",
    "\n",
    "The students are required to solve a problem where a robot has to find the shortest route to various rescue points on a grid, avoiding obstacles and danger zones. The search space is defined by a grid where the robot can move in four directions: up, down, left, and right.\n",
    "\n",
    "More formally, the problem can be defined as:\n",
    "- Initial state: A starting point on the grid representing the rescue teams' base.\n",
    "- States:\n",
    "  - Free: Teams can pass through without issues.\n",
    "  - Blocked: Cells impassable due to obstacles like debris or floods.\n",
    "  - Trapped people: Locations where groups of people who need to be rescued are found.\n",
    "  - Dangers: Areas with additional hazards that can delay the rescue or increase the route cost (e.g., fires, unstable areas, etc.).\n",
    "- Final state: Having rescued all the trapped people.\n",
    "- Actions: Move to an adjacent cell (up, down, left, right) from the current cell. \n",
    "\n"
   ]
  },
  {
   "cell_type": "markdown",
   "metadata": {},
   "source": [
    "### 2.1 Illustrative Example:\n",
    "\n",
    "One possible instance of this problem could be the one depicted here:\n",
    "\n",
    "<img src=\"./Figure_1.png\" alt=\"Simple example\" width=\"500\" height=\"500\"/>\n",
    "\n",
    "Note: include the image file in the same folder as the notebook, if you didn' do it before"
   ]
  },
  {
   "cell_type": "markdown",
   "metadata": {
    "datalore": {
     "hide_input_from_viewers": false,
     "hide_output_from_viewers": false,
     "node_id": "6gYL6VoT3okFgLpKvyyAq7",
     "type": "MD"
    }
   },
   "source": [
    "## 3. Assignment Development\n",
    "\n",
    "During the development of the assignment, you will be given a set of problem instances. The dimensionality, both in the number and type of cells, will be variable, and your algorithms should be efficient enough to work properly in all of them. Some other scenarios will be kept for the evaluation/correction/interview, so make your code general enough to load them easily."
   ]
  },
  {
   "cell_type": "markdown",
   "metadata": {},
   "source": [
    "### 3.1 Input Problems\n",
    "\n",
    "Every scenario will have associated a JSON file with the following structure: \n",
    "\n",
    "```JSON\n",
    "{\n",
    "    \"city\": {\n",
    "        \"rows\": number_of_rows,\n",
    "        \"columns\": number_of_columns,\n",
    "        \"blocked\": [[x_b1,y_b1],...,[x_bn,y_bn]]\n",
    "        },\n",
    "    \"departure\": [x_init,y_init],            \n",
    "    \"dangers\": [[x_d1,y_d1],...,[x_dk, y_dk]],\n",
    "    \"trapped\": [[x_t1,y_t1],...,[x_tm, y_tm]]        \n",
    "}\n",
    "```\n",
    "\n",
    "There are four general keys in the JSON file: \n",
    "- `city`: A dictionary that represents the grid of the problem.\n",
    "- `departure`: The departure cell, this is, the initial location of the robot.\n",
    "- `dangers`: An array with the cells where there is a possible danger to pass by in the grid.\n",
    "- `trapped`: An array with the cells where people is trapped and the robot has to go to rescue them.\n",
    "\n",
    "In the `city` dictionary, there are three keys: \n",
    "- `rows`: The number of rows of the grid.\n",
    "- `columns`: The number of columns of the grid.\n",
    "- `blocked`: An array with the cells where the robot cannot cross.\n",
    "\n",
    "Every cell in the grid is defined as a pair (x,y) (notice that in json format is represented as a list of two numbers [x,y]):\n",
    "- `x`: the x coordinate of the cell or the row of the grid.\n",
    "- `y`: the y coordinate of the cell or the column of the grid.\n",
    "\n",
    "Notice that we assume the upper-left corner cell as (0,0), and for one given cell (x,y), consider that the x-axis grows downwards (rows) and y-axis grows from left to right (columns). For example, in the given image the initial state would be (3,2). And, the right-bottom corner will be (9,9), the left-bottom corner is (9,0) and the right-upper corner is (0,9). \n",
    "\n",
    "NOTE: In other applications (image processing) this axis are interchanged but this system will facilitate your work when using 2D-lists (matrices) in python."
   ]
  },
  {
   "cell_type": "markdown",
   "metadata": {
    "datalore": {
     "hide_input_from_viewers": false,
     "hide_output_from_viewers": false,
     "node_id": "XqiqZwKKFJXYVAdvmfoLoK",
     "type": "MD"
    }
   },
   "source": [
    "## 4. Work plan\n",
    "\n",
    "The students should carry out the following tasks:\n",
    "- Design of the State Space:\n",
    "  - Describe how the state space, the actions, and the cost of the actions will be represented.\n",
    "- Implementation of Search Strategies:\n",
    "  - Implement at least two uninformed search strategies to find rescue routes.\n",
    "  - Implement at least two informed search strategies, using suitable heuristics to find optimized routes.\n",
    "- Experimentation and Analysis:\n",
    "  - Analyze the performance of the implemented strategies in terms of time, space, and route optimization.\n",
    "  - Compare and contrast the results obtained from the different search strategies.\n",
    "- Report:\n",
    "  - Write a report detailing the followed process, the implemented strategies, and the obtained results.\n",
    "  \n",
    "  \n",
    "\n",
    "In the evaluation of the assignment we will take into account:\n",
    "- Correct implementation of search strategies: 50%.\n",
    "- Appropriate design of state space and heuristics: 20%.\n",
    "- Experimentation and analysis of results: 20%.\n",
    "- Report quality: 10%.\n",
    "\n",
    "Lab1 submission dates:\n",
    "- Deadline for submitting code: **Friday, 10th November 2023**.\n",
    "- Deadline for submitting the report: Later, together with Lab2.\n",
    "\n",
    "In the following, more details of each task is provided."
   ]
  },
  {
   "cell_type": "markdown",
   "metadata": {
    "datalore": {
     "hide_input_from_viewers": false,
     "hide_output_from_viewers": false,
     "node_id": "1ZIcSVP1ezhQkctCJW5drs",
     "type": "MD"
    }
   },
   "source": [
    "### 4.1 Problem Formalization and Examples\n",
    "\n",
    "First of all, path finding in grids must be formalized as a problem of search in the space of states, by defining its basic elements. All implementations must refer to search in graphs, so it is important to take into consideration that repeated states must be controlled.\n",
    "\n"
   ]
  },
  {
   "cell_type": "markdown",
   "metadata": {
    "datalore": {
     "hide_input_from_viewers": false,
     "hide_output_from_viewers": false,
     "node_id": "UH2AvD5W1VRXdYUcOr5yNy",
     "type": "MD"
    }
   },
   "source": [
    "### 4.2 Implementation\n",
    "\n",
    "Below, you will have to provide the python code. You will have to code your own class structure for the problem formulation and then implement the algorithms studied in theory classes to solve the problen. "
   ]
  },
  {
   "cell_type": "markdown",
   "metadata": {
    "datalore": {
     "hide_input_from_viewers": false,
     "hide_output_from_viewers": false,
     "node_id": "6q3uoKPoKLFZnX2wHpx2mu",
     "type": "MD"
    }
   },
   "source": [
    "### 4.3 Study and improvement of the algorithms\n",
    "Once the algorithms have been implemented, you must study their performance. In order to do that,\n",
    "you must compare the quality of the solutions obtained, as well as the number of expanded nodes for\n",
    "instances of different sizes. Factors as the maximum size of problem that can be solved (without memory\n",
    "overflow), or the effect of using more complex scenarios, are also important. Moreover, you can propose\n",
    "alternative implementations that increase the efficiency of the algorithms.\n",
    "\n",
    "\n",
    "\n"
   ]
  },
  {
   "cell_type": "markdown",
   "metadata": {
    "datalore": {
     "hide_input_from_viewers": false,
     "hide_output_from_viewers": false,
     "node_id": "TN8nQpEQOYIQynu67Jy1ln",
     "type": "MD"
    }
   },
   "source": [
    "### 4.4 Report\n",
    "In addition to the notebook that contains the implementation, the assignment consists of preparing a report, which will have a later deadile, but which you must develop when the code begins to solve the problems correctly.\n",
    "\n",
    "In particular, among other issues that the student deems of interest to discuss, it should include:\n",
    "\n",
    "- A brief description of the problem, a description of the implementation, the performance evaluation, and the description of improvements if they exist. \n",
    "- The formalization of the problem.\n",
    "- For informed search algorithms one (or several) heuristic functions must be provided. Apart from their description and motivation, an analysis should be included indicating whether the proposed heuristic is considered admissible and/or consistent.\n",
    "- The study of performance of implemented algorithms should be based on testing the algorithms over several instances, presenting tables or graphics that summarize results (do not include screenshots).\n",
    "\n",
    "The report must not include figures with source code, unless this is necessary to explain some key concept (data structures, improvements in efficiency, etc). In such cases, you are allowed to include\n",
    "properly formatted pseudocode.\n",
    "\n"
   ]
  },
  {
   "cell_type": "markdown",
   "metadata": {
    "datalore": {
     "hide_input_from_viewers": false,
     "hide_output_from_viewers": false,
     "node_id": "Tinwe1v9Wx9ZaC9NcMPB1a",
     "type": "MD"
    }
   },
   "source": [
    "## 5. Submission and evaluation\n",
    "It is highly recommended to carry out the work in groups (pairs), although you can do it individually. The deadline for submission is 10th November, 2023. The oral exams (interviews) for the evaluation will be done in the following week and individually.\n",
    "\n",
    "Some considerations related to the evaluation:\n",
    "- This is 30% of the lab grade. Lab2 (70%) needs the resolution of this part. Late submissions (together with lab2) or failed assignments will be evaluated globally but with a penalization of the 10%, so the students can only get 90% of the lab grade.\n",
    "- Attendance to the lab is not compulsory, but it will be the best foundation for successful resolution of the labs. \n",
    "- Remind that the doubts and questions about the lab assignments have to be solved primarily in lab sessions.\n",
    "- The assignment will be evaluated during an individual interview (exam) with the professors. Dates for the interviews will be published with some advance in Campus Virtual.\n",
    "- We will provide a set of preliminary test cases (several problems) that must be correctly solved. Otherwise, the assignment will be considered as failed.\n",
    "- In order to get a mark in the assignment you will have to answer, individually, a set of questions about the code organization, and about related questions.\n",
    "- In the non-continuous evaluation we will require the implementation of the same search strategies plus these extra two: Depth-limited search and Iterative deepening search. Additional features can also be requiered."
   ]
  },
  {
   "cell_type": "code",
   "execution_count": null,
   "metadata": {},
   "outputs": [],
   "source": []
  }
 ],
 "metadata": {
  "datalore": {
   "base_environment": "default",
   "computation_mode": "JUPYTER",
   "package_manager": "pip",
   "packages": [
    {
     "name": "pqueue",
     "source": "PIP",
     "version": "0.1.7"
    },
    {
     "name": "geopy",
     "source": "PIP",
     "version": "2.2.0"
    }
   ],
   "version": 1
  },
  "kernelspec": {
   "display_name": "Python 3 (ipykernel)",
   "language": "python",
   "name": "python3"
  },
  "language_info": {
   "codemirror_mode": {
    "name": "ipython",
    "version": 3
   },
   "file_extension": ".py",
   "mimetype": "text/x-python",
   "name": "python",
   "nbconvert_exporter": "python",
   "pygments_lexer": "ipython3",
   "version": "3.8.8"
  },
  "vscode": {
   "interpreter": {
    "hash": "b2fdad1bafe026d053b4602f2179e2296ea0334d2d9ae4e6300a3a67b6dd2231"
   }
  }
 },
 "nbformat": 4,
 "nbformat_minor": 4
}
