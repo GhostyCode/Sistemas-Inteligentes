{
 "cells": [
  {
   "cell_type": "markdown",
   "metadata": {},
   "source": [
    "<br><br><br>\n",
    "<h1><font color=\"#B30033\" size=5>Sistemas Inteligentes - Curso 2023-2024</font></h1>\n",
    "\n",
    "\n",
    "\n",
    "<h1><font color=\"#B30033\" size=5>Práctica 1: Búsqueda en espacio de estados</font></h1>\n",
    "\n",
    "\n",
    "<br>\n",
    "<div estilo=\"text-align: izquierda\">\n",
    "<font color=\"#4E70BE\" size=3>Profesores:</font><br>\n",
    "<ul>\n",
    "<li><font color=\"#4E70BE\" size=3>Juan Carlos Alfaro Jiménez (JuanCarlos.Alfaro@uclm.es)</font><br></li>\n",
    "<li><font color=\"#4E70BE\" size=3>Mª Julia Flores Gallego (Julia.Flores@uclm.es)</font><br></li>\n",
    "<li><font color=\"#4E70BE\" size=3> Luna Jimenéz Fernández (Luna.Jimenez@uclm.es)</font><br></li>\n",
    "<li><font color=\"#4E70BE\" size=3> Ismael García Varea (Ismael.Garcia@uclm.es)</font><br></li>\n",
    "<li><font color=\"#4E70BE\" size=3> Luis González Naharro (Luis.GNaharro@uclm.es)</font>\n",
    "<li><font color=\"#4E70BE\" size=3> Marina Sokolova (Marina .Sokolova@uclm.es)</font>\n",
    "<br></li>\n",
    "</ul>\n",
    "</div>"
   ]
  },
  {
   "cell_type": "markdown",
   "metadata": {
    "datalore": {
     "hide_input_from_viewers": false,
     "hide_output_from_viewers": false,
     "node_id": "BJiz7lonyeROocVlcYrKWu",
     "type": "MD"
    }
   },
   "source": [
    "# ¡Rescate Urbano!"
   ]
  },
  {
   "cell_type": "markdown",
   "metadata": {
    "datalore": {
     "hide_input_from_viewers": false,
     "hide_output_from_viewers": false,
     "node_id": "BJiz7lonyeROocVlcYrKWu",
     "type": "MD"
    }
   },
   "source": [
    "## 1. Introducción\n",
    "\n",
    "\n",
    "En esta tarea, se presenta una situación de rescate urbano simulada donde deberéis desarrollar un sistema de inteligencia artificial para ayudar a un equipo de rescate a encontrar la ruta más rápida y segura para rescatar a personas atrapadas en varios lugares de una ciudad después de un desastre natural. La ciudad está representada por una cuadrícula donde cada celda puede tener diferentes estados: bloqueada, libre, con personas atrapadas o con peligros. Los equipos de rescate deben considerar tanto la velocidad como la seguridad durante la búsqueda.\n",
    "\n",
    "### Objetivos:\n",
    "\n",
    "- Implementar estrategias de búsqueda no informada (búsqueda primero en anchura y primero en profundidad) para encontrar un camino desde el punto de partida hasta un lugar de rescate.\n",
    "- Implementar estrategias de búsqueda informada (A* y búsqueda voraz) utilizando heurísticas apropiadas para optimizar la ruta de rescate considerando el tiempo y la seguridad.\n",
    "\n",
    "\n",
    "En este trabajo pondremos en práctica las técnicas de búsqueda en estado de espacios. Para ello, se implementarán y utilizarán algunos de los algoritmos vistos en los temas dos y tres para resolver un problema clásico: buscar rutas en una cuadrícula.\n",
    "\n",
    "También analizaremos y compararemos el rendimiento de los algoritmos ejecutándolos en diferentes instancias del problema y proporcionando distintos estados inicial y objetivo.\n",
    "\n",
    "Esperamos que esta práctica os ayude a profundizar en vuestra comprensión de las estrategias de búsqueda en inteligencia artificial y os anime a pensar en cómo se pueden aplicar estas técnicas en situaciones del mundo real para ayudar en operaciones de rescate y otras tareas críticas. ¡Buena suerte!"
   ]
  },
  {
   "cell_type": "markdown",
   "metadata": {
    "datalore": {
     "hide_input_from_viewers": false,
     "hide_output_from_viewers": false,
     "node_id": "kf129lUYKXkYfl7kIPcDlq",
     "type": "MD"
    }
   },
   "source": [
    "## 2. Descripción del problema\n",
    "\n",
    "Deberéis resolver un problema en el que un robot tiene que encontrar la ruta más corta a varios puntos de rescate en una cuadrícula, evitando obstáculos y zonas peligrosas. El espacio de búsqueda está definido por una cuadrícula donde el robot puede moverse en cuatro direcciones: arriba, abajo, izquierda y derecha.\n",
    "\n",
    "Más formalmente, el problema se puede definir como:\n",
    "- Estado inicial: Un punto de partida en la cuadrícula que representa la base de los equipos de rescate.\n",
    "- Estados:\n",
    "  - Libre: Los equipos pueden pasar sin problemas.\n",
    "  - Bloqueado: Celdas intransitables debido a obstáculos como escombros o inundaciones.\n",
    "  - Personas atrapadas: Localizaciones donde se encuentran grupos de personas que necesitan ser rescatadas.\n",
    "  - Peligros: Áreas con peligros adicionales que pueden retrasar el rescate o incrementar el coste de la ruta (por ejemplo, incendios, áreas inestables, etc.).\n",
    "  - Estado final: Haber rescatado a todas las personas atrapadas.\n",
    "  - Acciones: moverse a una celda adyacente (arriba, abajo, izquierda, derecha) desde la celda actual."
   ]
  },
  {
   "cell_type": "markdown",
   "metadata": {},
   "source": [
    "### 2.1 Ejemplo ilustrativo:\n",
    "\n",
    "Un posible ejemplo de este problema podría ser el que se muestra aquí:\n",
    "\n",
    "<img src=\"./Figure_1.png\" alt=\"Simple example\" width=\"500\" height=\"500\"/>\n",
    "\n",
    "Nota: recuerda incluir el archivo de imagen en la misma carpeta que el cuaderno, si no lo has hecho ya."
   ]
  },
  {
   "cell_type": "markdown",
   "metadata": {
    "datalore": {
     "hide_input_from_viewers": false,
     "hide_output_from_viewers": false,
     "node_id": "6gYL6VoT3okFgLpKvyyAq7",
     "type": "MD"
    }
   },
   "source": [
    "## 3. Desarrollo de tareas\n",
    "\n",
    "Durante el desarrollo de la tarea, se te entregará un conjunto de instancias de problemas. La dimensionalidad, tanto en el número como en el tipo de celdas, será variable, y tus algoritmos deberán ser lo suficientemente eficientes para funcionar correctamente en todas las instancias. Algunos otros escenarios se mantendrán aparte para la evaluación/corrección/entrevista, así que deberás escribir código que sea lo suficientemente general como para cargarlos fácilmente."
   ]
  },
  {
   "cell_type": "markdown",
   "metadata": {},
   "source": [
    "### 3.1 Problemas de entrada\n",
    "\n",
    "Cada escenario tendrá asociado un archivo JSON con la siguiente estructura:\n",
    "\n",
    "```JSON\n",
    "{\n",
    "    \"city\": {\n",
    "        \"rows\": number_of_rows,\n",
    "        \"columns\": number_of_columns,\n",
    "        \"blocked\": [[x_b1,y_b1],...,[x_bn,y_bn]]\n",
    "        },\n",
    "    \"departure\": [x_init,y_init],            \n",
    "    \"dangers\": [[x_d1,y_d1],...,[x_dk, y_dk]],\n",
    "    \"trapped\": [[x_t1,y_t1],...,[x_tm, y_tm]]        \n",
    "}\n",
    "```\n",
    "\n",
    "Hay cuatro claves generales en el archivo JSON:\n",
    "- `city`: Un diccionario que representa la cuadrícula del problema.\n",
    "- `departure`: La celda de inicio, es decir, la ubicación inicial del robot.\n",
    "- `dangers`: Un array con las celdas donde existe un peligro.\n",
    "- `trapped`: Un array con las celdas donde hay personas atrapadas que el robot tiene que ir a rescatar.\n",
    "\n",
    "En el diccionario `city`, hay tres claves:\n",
    "- `rows`: El número de filas de la cuadrícula.\n",
    "- `columns`: El número de columnas de la cuadrícula.\n",
    "- `blocked`: Un array con las celdas por donde el robot no puede cruzar.\n",
    "\n",
    "Cada celda de la cuadrícula se define como una tupla (x,y) (observa que en formato JSON se representa como una lista de dos números [x,y]):\n",
    "- `x`: la coordenada x de la celda o la fila de la cuadrícula.\n",
    "- `y`: la coordenada y de la celda o la columna de la cuadrícula.\n",
    "\n",
    "Asumimos que la celda de la esquina superior izquierda es (0,0), y para una celda determinada (x,y), ten en cuenta que el eje `x` crece hacia abajo (filas) y el eje `y` crece de izquierda a derecha (columnas). Por ejemplo, en la imagen dada el estado inicial sería (3,2). Y la esquina inferior derecha será (9,9), la esquina inferior izquierda será (9,0) y la esquina superior derecha será (0,9).\n",
    "\n",
    "NOTA: En otras aplicaciones (procesamiento de imágenes) estas coordenadas se suelen dar intercambiadas (x horizointal/columnas e y vertical/filas), pero este sistema facilitará tu trabajo al utilizar listas 2D (matrices) en Python."
   ]
  },
  {
   "cell_type": "markdown",
   "metadata": {
    "datalore": {
     "hide_input_from_viewers": false,
     "hide_output_from_viewers": false,
     "node_id": "XqiqZwKKFJXYVAdvmfoLoK",
     "type": "MD"
    }
   },
   "source": [
    "## 4. Plan de trabajo\n",
    "\n",
    "Deberás realizar las siguientes tareas:\n",
    "- Diseño del espacio de estados:\n",
    "  - Describir cómo se representará el espacio de estados, las acciones y el coste de las acciones.\n",
    "- Implementación de estrategias de búsqueda:\n",
    "  - Implementar al menos dos estrategias de búsqueda no informada para encontrar rutas de rescate.\n",
    "  - Implementar al menos dos estrategias de búsqueda informada, utilizando heurísticas adecuadas para encontrar rutas óptimas.\n",
    "- Experimentación y análisis:\n",
    "  - Analizar el rendimiento de las estrategias implementadas en términos de optimización de tiempo, espacio y rutas.\n",
    "  - Comparar y contrastar los resultados obtenidos de las diferentes estrategias de búsqueda.\n",
    "- Informe:\n",
    "  - Redactar un informe detallando el proceso seguido, las estrategias implementadas y los resultados obtenidos.\n",
    "\n",
    "\n",
    "En la evaluación del trabajo tendremos en cuenta:\n",
    "- Correcta implementación de estrategias de búsqueda: 50%.\n",
    "- Diseño adecuado del espacio de estados y heurísticas: 20%.\n",
    "- Experimentación y análisis de resultados: 20%.\n",
    "- Calidad del informe: 10%.\n",
    "\n",
    "Fechas de presentación de Lab1:\n",
    "- Fecha límite para enviar el código: **Viernes 10 de noviembre de 2023**.\n",
    "- Plazo de presentación del informe: Posteriormente, junto con Lab2.\n",
    "\n",
    "A continuación se proporcionan más detalles de cada tarea."
   ]
  },
  {
   "cell_type": "markdown",
   "metadata": {
    "datalore": {
     "hide_input_from_viewers": false,
     "hide_output_from_viewers": false,
     "node_id": "1ZIcSVP1ezhQkctCJW5drs",
     "type": "MD"
    }
   },
   "source": [
    "### 4.1 Formalización del problema y ejemplos\n",
    "\n",
    "En primer lugar, la búsqueda de caminos en cuadrículas debe formalizarse como un problema de búsqueda en espacio de estados, definiendo sus elementos básicos. Todas las implementaciones deben hacer referencia a la búsqueda en grafos, por lo que es importante tener en cuenta que se deben controlar los estados repetidos."
   ]
  },
  {
   "cell_type": "markdown",
   "metadata": {
    "datalore": {
     "hide_input_from_viewers": false,
     "hide_output_from_viewers": false,
     "node_id": "UH2AvD5W1VRXdYUcOr5yNy",
     "type": "MD"
    }
   },
   "source": [
    "### 4.2 Implementación\n",
    "\n",
    "A continuación, deberás implementar el código en Python. Tendrás que codificar tu propia estructura de clases para la formalización del problema y luego implementar los algoritmos estudiados en las clases de teoría para resolver el problema."
   ]
  },
  {
   "cell_type": "markdown",
   "metadata": {
    "datalore": {
     "hide_input_from_viewers": false,
     "hide_output_from_viewers": false,
     "node_id": "6q3uoKPoKLFZnX2wHpx2mu",
     "type": "MD"
    }
   },
   "source": [
    "### 4.3 Estudio y mejora de los algoritmos\n",
    "\n",
    "Una vez implementados los algoritmos, deberás estudiar su rendimiento. Para ello, debes comparar la calidad de las soluciones obtenidas, así como el número de nodos expandidos para instancias de diferentes tamaños. Factores como el tamaño máximo de problema que se puede resolver (sin que haya desbordamiento de memoria), o el efecto de utilizar escenarios más complejos, también son importantes. Además, puedes proponer implementaciones alternativas que aumenten la eficiencia de los algoritmos."
   ]
  },
  {
   "cell_type": "markdown",
   "metadata": {
    "datalore": {
     "hide_input_from_viewers": false,
     "hide_output_from_viewers": false,
     "node_id": "TN8nQpEQOYIQynu67Jy1ln",
     "type": "MD"
    }
   },
   "source": [
    "### 4.4 Informe\n",
    "Además del cuaderno que contiene la implementación, el trabajo consiste en elaborar un informe, que tendrá una fecha de entrega posterior, pero que deberás empezar a escribir en cuanto el código comience a resolver los problemas correctamente.\n",
    "\n",
    "En particular, entre otros temas que consideres de interés mencionar, deberá incluir:\n",
    "\n",
    "- Una breve descripción del problema, una descripción de la implementación, la evaluación del rendimiento y la descripción de las mejoras (si existen).\n",
    "- La formalización del problema.\n",
    "- Para algoritmos de búsqueda informados se deben proporcionar una (o varias) funciones heurísticas. Además de su descripción y motivación, se deberá incluir un análisis que indique si la heurística propuesta se considera admisible y/o consistente.\n",
    "- El estudio del rendimiento de los algoritmos implementados debe basarse en probar los algoritmos en varias instancias, presentando tablas o gráficos que resuman los resultados (¡no incluyas capturas de pantalla!).\n",
    "\n",
    "El informe no debe incluir figuras con código fuente, a menos que sea necesario para explicar algún concepto clave (estructuras de datos, mejoras en eficiencia, etc). En tales casos, se te permite incluir pseudocódigo con el formato adecuado."
   ]
  },
  {
   "cell_type": "markdown",
   "metadata": {
    "datalore": {
     "hide_input_from_viewers": false,
     "hide_output_from_viewers": false,
     "node_id": "Tinwe1v9Wx9ZaC9NcMPB1a",
     "type": "MD"
    }
   },
   "source": [
    "## 5. Presentación y evaluación\n",
    "Es muy recomendable realizar el trabajo en grupo (por parejas), aunque se puede realizar de forma individual. La fecha límite de presentación es el 10 de noviembre de 2023. Los exámenes orales (entrevistas) para la evaluación se realizarán la semana siguiente y de forma individual.\n",
    "\n",
    "Algunas consideraciones relacionadas con la evaluación:\n",
    "- Este trabajo cuenta un 30% de la nota de laboratorio. Lab2 (70%) necesita la resolución de esta parte. Los envíos fuera de plazo (junto con lab2) o los trabajos suspensos se evaluarán globalmente pero con una penalización del 10%, por lo que sólo podréis obtener el 90% de la nota de laboratorio.\n",
    "- La asistencia a las prácticas no es obligatoria, pero será la mejor base para resolver con éxito las prácticas.\n",
    "- Recordad que las dudas y preguntas sobre las prácticas de laboratorio deben resolverse principalmente en las sesiones de laboratorio.\n",
    "- El trabajo será evaluado durante una entrevista individual (examen) con los profesores. Las fechas de las entrevistas se publicarán con cierta antelación en el Campus Virtual.\n",
    "- Proporcionaremos un conjunto de casos de prueba preliminares (varios problemas) que deben resolverse correctamente. En caso contrario, el trabajo se considerará suspenso.\n",
    "- Para obtener una puntuación en el trabajo tendrás que responder, de forma individual, a una serie de preguntas sobre la organización del código y sobre cuestiones relacionadas.\n",
    "- En la evaluación no continua requeriremos la implementación de las mismas estrategias de búsqueda más estas dos adicionales: Búsqueda en profundidad limitada y Búsqueda en profundidad iterativa. También se pueden requerir características adicionales."
   ]
  },
  {
   "cell_type": "code",
   "execution_count": null,
   "metadata": {},
   "outputs": [],
   "source": []
  }
 ],
 "metadata": {
  "datalore": {
   "base_environment": "default",
   "computation_mode": "JUPYTER",
   "package_manager": "pip",
   "packages": [
    {
     "name": "pqueue",
     "source": "PIP",
     "version": "0.1.7"
    },
    {
     "name": "geopy",
     "source": "PIP",
     "version": "2.2.0"
    }
   ],
   "version": 1
  },
  "kernelspec": {
   "display_name": "Python 3 (ipykernel)",
   "language": "python",
   "name": "python3"
  },
  "language_info": {
   "codemirror_mode": {
    "name": "ipython",
    "version": 3
   },
   "file_extension": ".py",
   "mimetype": "text/x-python",
   "name": "python",
   "nbconvert_exporter": "python",
   "pygments_lexer": "ipython3",
   "version": "3.8.8"
  },
  "latex_envs": {
   "LaTeX_envs_menu_present": true,
   "autoclose": false,
   "autocomplete": true,
   "bibliofile": "biblio.bib",
   "cite_by": "apalike",
   "current_citInitial": 1,
   "eqLabelWithNumbers": true,
   "eqNumInitial": 1,
   "hotkeys": {
    "equation": "Ctrl-E",
    "itemize": "Ctrl-I"
   },
   "labels_anchors": false,
   "latex_user_defs": false,
   "report_style_numbering": false,
   "user_envs_cfg": false
  },
  "vscode": {
   "interpreter": {
    "hash": "b2fdad1bafe026d053b4602f2179e2296ea0334d2d9ae4e6300a3a67b6dd2231"
   }
  }
 },
 "nbformat": 4,
 "nbformat_minor": 4
}
